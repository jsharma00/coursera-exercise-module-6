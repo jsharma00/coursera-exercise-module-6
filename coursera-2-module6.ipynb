{
  "metadata": {
    "kernelspec": {
      "name": "python",
      "display_name": "Python (Pyodide)",
      "language": "python"
    },
    "language_info": {
      "codemirror_mode": {
        "name": "python",
        "version": 3
      },
      "file_extension": ".py",
      "mimetype": "text/x-python",
      "name": "python",
      "nbconvert_exporter": "python",
      "pygments_lexer": "ipython3",
      "version": "3.8"
    }
  },
  "nbformat_minor": 5,
  "nbformat": 4,
  "cells": [
    {
      "id": "20112718-a4d3-4edf-906b-8a6821248df0",
      "cell_type": "markdown",
      "source": "# Notebook Assignment Coursera\n",
      "metadata": {}
    },
    {
      "id": "7e893fb3-2ce9-4492-94cc-a87bc4e8682e",
      "cell_type": "markdown",
      "source": "## Introduction\nThis notebook demonstrates basic data science concepts, languages, libraries, tools, and simple arithmetic operations using Python in JupyterLite.\n",
      "metadata": {}
    },
    {
      "id": "555f19c8-e29e-4448-8f93-51f757c27c5a",
      "cell_type": "markdown",
      "source": "## Data Science Languages\n- Python\n- R\n- SQL\n- Julia\n- Scala",
      "metadata": {}
    },
    {
      "id": "abe525f7-e413-490a-9d6c-e1f453209476",
      "cell_type": "markdown",
      "source": "## Data Science Libraries\n- Pandas\n- NumPy\n- Matplotlib\n- SciPy\n- Scikit-learn\n- TensorFlow\n- Keras\n",
      "metadata": {}
    },
    {
      "id": "9ee045ef-f117-434c-93a9-8077b479138a",
      "cell_type": "code",
      "source": "## Data Science Tools\n- Jupyter\n- RStudio\n- GitHub\n- Tableau\n- IBM Watson\n",
      "metadata": {
        "trusted": true
      },
      "outputs": [],
      "execution_count": null
    },
    {
      "id": "2c5565c6-48c2-4026-a6dc-5a65cb82668b",
      "cell_type": "markdown",
      "source": "## Arithmetic Expression Examples\nBelow are simple examples of arithmetic operations in Python.\n",
      "metadata": {}
    },
    {
      "id": "4126a4da-fa0e-46d5-a35a-72e7f7b4f0c5",
      "cell_type": "code",
      "source": "# Multiply and add numbers\na = 5\nb = 10\nc = 2\n\n# Multiply a and b, then add c\nresult = (a * b) + c\n",
      "metadata": {
        "trusted": true
      },
      "outputs": [],
      "execution_count": null
    },
    {
      "id": "7eafd3d6-7e6d-480c-8034-f9dace7328fc",
      "cell_type": "code",
      "source": "# Convert minutes to hours\nminutes = 150\nhours = minutes / 60\nhours\n",
      "metadata": {
        "trusted": true
      },
      "outputs": [],
      "execution_count": null
    },
    {
      "id": "d8907722-ae44-4517-8556-027522c9ed63",
      "cell_type": "markdown",
      "source": "## Objectives\n1. Learn basic data science languages and libraries.\n2. Explore common data science tools.\n3. Demonstrate simple arithmetic operations in Python.\n4. Practice creating and sharing Jupyter notebooks.",
      "metadata": {}
    },
    {
      "id": "89519434-17ad-4f96-b298-1926453ddc5c",
      "cell_type": "markdown",
      "source": "## Author\nDeepak Lekhak",
      "metadata": {}
    },
    {
      "id": "61b61cb8-024d-4be1-8629-503950c448c5",
      "cell_type": "code",
      "source": "",
      "metadata": {
        "trusted": true
      },
      "outputs": [],
      "execution_count": null
    }
  ]
}